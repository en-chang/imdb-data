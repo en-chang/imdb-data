{
 "cells": [
  {
   "cell_type": "markdown",
   "metadata": {},
   "source": [
    "### ingest data from bollywood dataset"
   ]
  },
  {
   "cell_type": "code",
   "execution_count": 2,
   "metadata": {},
   "outputs": [],
   "source": [
    "dataset_id = \"bollywood_staging\""
   ]
  },
  {
   "cell_type": "code",
   "execution_count": 3,
   "metadata": {},
   "outputs": [
    {
     "name": "stdout",
     "output_type": "stream",
     "text": [
      "Dataset 'starry-center-266501:bollywood_staging' successfully created.\n"
     ]
    }
   ],
   "source": [
    "!bq --location=US mk --dataset {dataset_id}"
   ]
  },
  {
   "cell_type": "markdown",
   "metadata": {},
   "source": [
    "### creating tables and loading data into tables"
   ]
  },
  {
   "cell_type": "code",
   "execution_count": 4,
   "metadata": {},
   "outputs": [
    {
     "name": "stdout",
     "output_type": "stream",
     "text": [
      "Waiting on bqjob_r1ec0e5af9e7b3311_0000017176286793_1 ... (1s) Current status: DONE   \n"
     ]
    }
   ],
   "source": [
    "!bq --location=US load --autodetect --skip_leading_rows=1 \\\n",
    "--source_format=CSV {dataset_id}.bollywoodActors \\\n",
    "'gs://cs329e-imdb-data-csvs/bollywood-data/bollywoodActors.csv'"
   ]
  },
  {
   "cell_type": "code",
   "execution_count": 5,
   "metadata": {},
   "outputs": [
    {
     "name": "stdout",
     "output_type": "stream",
     "text": [
      "Waiting on bqjob_r58603fce13bbec30_0000017176297891_1 ... (1s) Current status: DONE   \n"
     ]
    }
   ],
   "source": [
    "!bq --location=US load --autodetect --skip_leading_rows=1 \\\n",
    "--source_format=CSV {dataset_id}.bollywoodActress \\\n",
    "'gs://cs329e-imdb-data-csvs/bollywood-data/bollywoodActress.csv'"
   ]
  },
  {
   "cell_type": "code",
   "execution_count": 6,
   "metadata": {},
   "outputs": [
    {
     "name": "stdout",
     "output_type": "stream",
     "text": [
      "Waiting on bqjob_r1132896574a22ba0_000001717629ec62_1 ... (1s) Current status: DONE   \n"
     ]
    }
   ],
   "source": [
    "!bq --location=US load --autodetect --skip_leading_rows=1 \\\n",
    "--source_format=CSV {dataset_id}.bollywood \\\n",
    "'gs://cs329e-imdb-data-csvs/bollywood-data/bollywood.csv'"
   ]
  },
  {
   "cell_type": "markdown",
   "metadata": {},
   "source": [
    "Visually inspect the contents of each table by selecting a few sample records."
   ]
  },
  {
   "cell_type": "markdown",
   "metadata": {},
   "source": [
    "bollywood"
   ]
  },
  {
   "cell_type": "code",
   "execution_count": 2,
   "metadata": {},
   "outputs": [
    {
     "data": {
      "text/html": [
       "<div>\n",
       "<style scoped>\n",
       "    .dataframe tbody tr th:only-of-type {\n",
       "        vertical-align: middle;\n",
       "    }\n",
       "\n",
       "    .dataframe tbody tr th {\n",
       "        vertical-align: top;\n",
       "    }\n",
       "\n",
       "    .dataframe thead th {\n",
       "        text-align: right;\n",
       "    }\n",
       "</style>\n",
       "<table border=\"1\" class=\"dataframe\">\n",
       "  <thead>\n",
       "    <tr style=\"text-align: right;\">\n",
       "      <th></th>\n",
       "      <th>Year</th>\n",
       "      <th>Title</th>\n",
       "      <th>Director</th>\n",
       "      <th>Cast</th>\n",
       "      <th>Genre</th>\n",
       "      <th>Release_Month</th>\n",
       "      <th>Release_Date</th>\n",
       "      <th>Highest_Grosser_By_Year_in_crores_</th>\n",
       "    </tr>\n",
       "  </thead>\n",
       "  <tbody>\n",
       "    <tr>\n",
       "      <th>0</th>\n",
       "      <td>1920</td>\n",
       "      <td>Shakuntala</td>\n",
       "      <td>Shree Nath Patankar</td>\n",
       "      <td>unknown</td>\n",
       "      <td>mythology,drama</td>\n",
       "      <td>None</td>\n",
       "      <td>None</td>\n",
       "      <td>None</td>\n",
       "    </tr>\n",
       "    <tr>\n",
       "      <th>1</th>\n",
       "      <td>1921</td>\n",
       "      <td>Belgian Emperor's Visit To India</td>\n",
       "      <td>Nitin Bose</td>\n",
       "      <td>unknown</td>\n",
       "      <td>documentary</td>\n",
       "      <td>None</td>\n",
       "      <td>None</td>\n",
       "      <td>None</td>\n",
       "    </tr>\n",
       "    <tr>\n",
       "      <th>2</th>\n",
       "      <td>1921</td>\n",
       "      <td>Bilet Pherat a.k.a. England Returned</td>\n",
       "      <td>Dhirendranath Ganguly</td>\n",
       "      <td>dhirendranath,chakraborty,sushilabala,kunjalal...</td>\n",
       "      <td>social,comedy</td>\n",
       "      <td>None</td>\n",
       "      <td>None</td>\n",
       "      <td>None</td>\n",
       "    </tr>\n",
       "    <tr>\n",
       "      <th>3</th>\n",
       "      <td>1921</td>\n",
       "      <td>King Gopichand a.k.a. Gopichand</td>\n",
       "      <td>Vishnupant Divekar</td>\n",
       "      <td>mama,koregaonkar,hira,bhatt</td>\n",
       "      <td>legend</td>\n",
       "      <td>None</td>\n",
       "      <td>None</td>\n",
       "      <td>None</td>\n",
       "    </tr>\n",
       "    <tr>\n",
       "      <th>4</th>\n",
       "      <td>1922</td>\n",
       "      <td>Bhartrahari a.k.a. King Bhartrahari</td>\n",
       "      <td>S. N. Patankar</td>\n",
       "      <td>tara,koregaonkar,thatte</td>\n",
       "      <td>legend</td>\n",
       "      <td>None</td>\n",
       "      <td>None</td>\n",
       "      <td>None</td>\n",
       "    </tr>\n",
       "  </tbody>\n",
       "</table>\n",
       "</div>"
      ],
      "text/plain": [
       "   Year                                 Title               Director  \\\n",
       "0  1920                            Shakuntala    Shree Nath Patankar   \n",
       "1  1921      Belgian Emperor's Visit To India             Nitin Bose   \n",
       "2  1921  Bilet Pherat a.k.a. England Returned  Dhirendranath Ganguly   \n",
       "3  1921       King Gopichand a.k.a. Gopichand     Vishnupant Divekar   \n",
       "4  1922   Bhartrahari a.k.a. King Bhartrahari         S. N. Patankar   \n",
       "\n",
       "                                                Cast            Genre  \\\n",
       "0                                            unknown  mythology,drama   \n",
       "1                                            unknown      documentary   \n",
       "2  dhirendranath,chakraborty,sushilabala,kunjalal...    social,comedy   \n",
       "3                        mama,koregaonkar,hira,bhatt           legend   \n",
       "4                            tara,koregaonkar,thatte           legend   \n",
       "\n",
       "  Release_Month Release_Date Highest_Grosser_By_Year_in_crores_  \n",
       "0          None         None                               None  \n",
       "1          None         None                               None  \n",
       "2          None         None                               None  \n",
       "3          None         None                               None  \n",
       "4          None         None                               None  "
      ]
     },
     "execution_count": 2,
     "metadata": {},
     "output_type": "execute_result"
    }
   ],
   "source": [
    "%%bigquery\n",
    "SELECT *\n",
    "FROM bollywood_staging.bollywood\n",
    "LIMIT 5"
   ]
  },
  {
   "cell_type": "code",
   "execution_count": 3,
   "metadata": {},
   "outputs": [
    {
     "data": {
      "text/html": [
       "<div>\n",
       "<style scoped>\n",
       "    .dataframe tbody tr th:only-of-type {\n",
       "        vertical-align: middle;\n",
       "    }\n",
       "\n",
       "    .dataframe tbody tr th {\n",
       "        vertical-align: top;\n",
       "    }\n",
       "\n",
       "    .dataframe thead th {\n",
       "        text-align: right;\n",
       "    }\n",
       "</style>\n",
       "<table border=\"1\" class=\"dataframe\">\n",
       "  <thead>\n",
       "    <tr style=\"text-align: right;\">\n",
       "      <th></th>\n",
       "      <th>Name</th>\n",
       "      <th>Height_in_cm_</th>\n",
       "    </tr>\n",
       "  </thead>\n",
       "  <tbody>\n",
       "    <tr>\n",
       "      <th>0</th>\n",
       "      <td>Aamir Khan</td>\n",
       "      <td>163</td>\n",
       "    </tr>\n",
       "    <tr>\n",
       "      <th>1</th>\n",
       "      <td>Himesh Reshamiya</td>\n",
       "      <td>163</td>\n",
       "    </tr>\n",
       "    <tr>\n",
       "      <th>2</th>\n",
       "      <td>Kamal Haasan</td>\n",
       "      <td>165</td>\n",
       "    </tr>\n",
       "    <tr>\n",
       "      <th>3</th>\n",
       "      <td>Kunal Khemu</td>\n",
       "      <td>166</td>\n",
       "    </tr>\n",
       "    <tr>\n",
       "      <th>4</th>\n",
       "      <td>Shahid Kapoor</td>\n",
       "      <td>167</td>\n",
       "    </tr>\n",
       "  </tbody>\n",
       "</table>\n",
       "</div>"
      ],
      "text/plain": [
       "               Name  Height_in_cm_\n",
       "0        Aamir Khan            163\n",
       "1  Himesh Reshamiya            163\n",
       "2      Kamal Haasan            165\n",
       "3       Kunal Khemu            166\n",
       "4     Shahid Kapoor            167"
      ]
     },
     "execution_count": 3,
     "metadata": {},
     "output_type": "execute_result"
    }
   ],
   "source": [
    "%%bigquery\n",
    "SELECT * \n",
    "FROM bollywood_staging.bollywoodActors\n",
    "LIMIT 5"
   ]
  },
  {
   "cell_type": "code",
   "execution_count": 5,
   "metadata": {},
   "outputs": [
    {
     "data": {
      "text/html": [
       "<div>\n",
       "<style scoped>\n",
       "    .dataframe tbody tr th:only-of-type {\n",
       "        vertical-align: middle;\n",
       "    }\n",
       "\n",
       "    .dataframe tbody tr th {\n",
       "        vertical-align: top;\n",
       "    }\n",
       "\n",
       "    .dataframe thead th {\n",
       "        text-align: right;\n",
       "    }\n",
       "</style>\n",
       "<table border=\"1\" class=\"dataframe\">\n",
       "  <thead>\n",
       "    <tr style=\"text-align: right;\">\n",
       "      <th></th>\n",
       "      <th>Name</th>\n",
       "      <th>Height_in_cm_</th>\n",
       "      <th>Debut_aslead_role</th>\n",
       "      <th>_____</th>\n",
       "    </tr>\n",
       "  </thead>\n",
       "  <tbody>\n",
       "    <tr>\n",
       "      <th>0</th>\n",
       "      <td>Ameesha Patel</td>\n",
       "      <td>152</td>\n",
       "      <td>Kaho Naa... Pyaar Hai</td>\n",
       "      <td>None</td>\n",
       "    </tr>\n",
       "    <tr>\n",
       "      <th>1</th>\n",
       "      <td>Soha Ali Khan</td>\n",
       "      <td>152</td>\n",
       "      <td>Rang De Basanti</td>\n",
       "      <td>None</td>\n",
       "    </tr>\n",
       "    <tr>\n",
       "      <th>2</th>\n",
       "      <td>Tanuja Samarth</td>\n",
       "      <td>152</td>\n",
       "      <td>Hamari Yaad Aayegi</td>\n",
       "      <td>None</td>\n",
       "    </tr>\n",
       "    <tr>\n",
       "      <th>3</th>\n",
       "      <td>Alia Bhatt</td>\n",
       "      <td>155</td>\n",
       "      <td>Student of the Year</td>\n",
       "      <td>None</td>\n",
       "    </tr>\n",
       "    <tr>\n",
       "      <th>4</th>\n",
       "      <td>Farida Jalal</td>\n",
       "      <td>155</td>\n",
       "      <td>Laal Patthar</td>\n",
       "      <td>None</td>\n",
       "    </tr>\n",
       "  </tbody>\n",
       "</table>\n",
       "</div>"
      ],
      "text/plain": [
       "             Name  Height_in_cm_      Debut_aslead_role _____\n",
       "0   Ameesha Patel            152  Kaho Naa... Pyaar Hai  None\n",
       "1   Soha Ali Khan            152        Rang De Basanti  None\n",
       "2  Tanuja Samarth            152     Hamari Yaad Aayegi  None\n",
       "3      Alia Bhatt            155    Student of the Year  None\n",
       "4    Farida Jalal            155           Laal Patthar  None"
      ]
     },
     "execution_count": 5,
     "metadata": {},
     "output_type": "execute_result"
    }
   ],
   "source": [
    "%%bigquery\n",
    "SELECT *\n",
    "FROM bollywood_staging.bollywoodActress\n",
    "LIMIT 5"
   ]
  }
 ],
 "metadata": {
  "kernelspec": {
   "display_name": "Python 3",
   "language": "python",
   "name": "python3"
  },
  "language_info": {
   "codemirror_mode": {
    "name": "ipython",
    "version": 3
   },
   "file_extension": ".py",
   "mimetype": "text/x-python",
   "name": "python",
   "nbconvert_exporter": "python",
   "pygments_lexer": "ipython3",
   "version": "3.7.6"
  }
 },
 "nbformat": 4,
 "nbformat_minor": 4
}
